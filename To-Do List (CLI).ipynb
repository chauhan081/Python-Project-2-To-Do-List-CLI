{
 "cells": [
  {
   "cell_type": "code",
   "execution_count": null,
   "id": "c96559e9-f138-4c9d-a626-d0f29c0b5207",
   "metadata": {},
   "outputs": [
    {
     "name": "stdout",
     "output_type": "stream",
     "text": [
      "\n",
      "=== To-Do List ===\n",
      "1. View Tasks\n",
      "2. Add Task\n",
      "3. Delete Task\n",
      "4. Exit\n"
     ]
    },
    {
     "name": "stdin",
     "output_type": "stream",
     "text": [
      "Choose an option (1-4):  2\n",
      "Enter task:  Learn Python\n"
     ]
    },
    {
     "name": "stdout",
     "output_type": "stream",
     "text": [
      "Task added.\n",
      "\n",
      "=== To-Do List ===\n",
      "1. View Tasks\n",
      "2. Add Task\n",
      "3. Delete Task\n",
      "4. Exit\n"
     ]
    },
    {
     "name": "stdin",
     "output_type": "stream",
     "text": [
      "Choose an option (1-4):  1\n"
     ]
    },
    {
     "name": "stdout",
     "output_type": "stream",
     "text": [
      "1. Learn Python\n",
      "\n",
      "=== To-Do List ===\n",
      "1. View Tasks\n",
      "2. Add Task\n",
      "3. Delete Task\n",
      "4. Exit\n"
     ]
    },
    {
     "name": "stdin",
     "output_type": "stream",
     "text": [
      "Choose an option (1-4):  2\n",
      "Enter task:  Data Science projects\n"
     ]
    },
    {
     "name": "stdout",
     "output_type": "stream",
     "text": [
      "Task added.\n",
      "\n",
      "=== To-Do List ===\n",
      "1. View Tasks\n",
      "2. Add Task\n",
      "3. Delete Task\n",
      "4. Exit\n"
     ]
    },
    {
     "name": "stdin",
     "output_type": "stream",
     "text": [
      "Choose an option (1-4):  1\n"
     ]
    },
    {
     "name": "stdout",
     "output_type": "stream",
     "text": [
      "1. Learn Python\n",
      "2. Data Science projects\n",
      "\n",
      "=== To-Do List ===\n",
      "1. View Tasks\n",
      "2. Add Task\n",
      "3. Delete Task\n",
      "4. Exit\n"
     ]
    }
   ],
   "source": [
    "todo_list = []\n",
    "\n",
    "def show_tasks():\n",
    "    if not todo_list:\n",
    "        print(\"No tasks yet.\")\n",
    "    else:\n",
    "        for i, task in enumerate(todo_list, 1):\n",
    "            print(f\"{i}. {task}\")\n",
    "\n",
    "def add_task(task):\n",
    "    todo_list.append(task)\n",
    "    print(\"Task added.\")\n",
    "\n",
    "def delete_task(index):\n",
    "    if 0 < index <= len(todo_list):\n",
    "        removed = todo_list.pop(index - 1)\n",
    "        print(f\"Deleted: {removed}\")\n",
    "    else:\n",
    "        print(\"Invalid task number.\")\n",
    "\n",
    "while True:\n",
    "    print(\"\\n=== To-Do List ===\")\n",
    "    print(\"1. View Tasks\")\n",
    "    print(\"2. Add Task\")\n",
    "    print(\"3. Delete Task\")\n",
    "    print(\"4. Exit\")\n",
    "\n",
    "    choice = input(\"Choose an option (1-4): \")\n",
    "\n",
    "    if choice == '1':\n",
    "        show_tasks()\n",
    "    elif choice == '2':\n",
    "        task = input(\"Enter task: \")\n",
    "        add_task(task)\n",
    "    elif choice == '3':\n",
    "        show_tasks()\n",
    "        try:\n",
    "            idx = int(input(\"Enter task number to delete: \"))\n",
    "            delete_task(idx)\n",
    "        except ValueError:\n",
    "                 print(\"Please enter a valid number.\")\n",
    "    elif choice == '4':\n",
    "        print(\"Goodbye!\")\n",
    "        break\n",
    "    else:\n",
    "        print(\"Invalid option.\")\n"
   ]
  },
  {
   "cell_type": "code",
   "execution_count": null,
   "id": "67ee1a56-3838-4637-8742-a0b62bc1cee0",
   "metadata": {},
   "outputs": [],
   "source": []
  }
 ],
 "metadata": {
  "kernelspec": {
   "display_name": "Python 3 (ipykernel)",
   "language": "python",
   "name": "python3"
  },
  "language_info": {
   "codemirror_mode": {
    "name": "ipython",
    "version": 3
   },
   "file_extension": ".py",
   "mimetype": "text/x-python",
   "name": "python",
   "nbconvert_exporter": "python",
   "pygments_lexer": "ipython3",
   "version": "3.13.5"
  }
 },
 "nbformat": 4,
 "nbformat_minor": 5
}
